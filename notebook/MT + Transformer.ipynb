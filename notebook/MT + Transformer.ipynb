{
 "cells": [
  {
   "cell_type": "markdown",
   "metadata": {},
   "source": [
    "# Machine Translation + Transformer\n",
    "\n",
    "<img src = \"../figures/transformer1.png\" >"
   ]
  },
  {
   "cell_type": "code",
   "execution_count": 1,
   "metadata": {},
   "outputs": [
    {
     "name": "stderr",
     "output_type": "stream",
     "text": [
      "[nltk_data] Downloading package punkt to\n",
      "[nltk_data]     C:\\Users\\surya\\AppData\\Roaming\\nltk_data...\n",
      "[nltk_data]   Package punkt is already up-to-date!\n",
      "[nltk_data] Downloading package punkt_tab to\n",
      "[nltk_data]     C:\\Users\\surya\\AppData\\Roaming\\nltk_data...\n",
      "[nltk_data]   Package punkt_tab is already up-to-date!\n"
     ]
    }
   ],
   "source": [
    "import nltk\n",
    "nltk.download('punkt')\n",
    "nltk.download('punkt_tab')\n",
    "from nltk.tokenize import word_tokenize\n",
    "from datasets import load_dataset, DatasetDict\n",
    "from collections import Counter\n",
    "import torch\n",
    "import torch.nn as nn\n",
    "from torch.utils.data import DataLoader\n",
    "from torch.nn.utils.rnn import pad_sequence\n",
    "import math"
   ]
  },
  {
   "cell_type": "code",
   "execution_count": 2,
   "metadata": {},
   "outputs": [
    {
     "data": {
      "text/plain": [
       "'2.5.1'"
      ]
     },
     "execution_count": 2,
     "metadata": {},
     "output_type": "execute_result"
    }
   ],
   "source": [
    "torch.__version__"
   ]
  },
  {
   "cell_type": "code",
   "execution_count": 3,
   "metadata": {},
   "outputs": [],
   "source": [
    "SEED = 1234\n",
    "torch.manual_seed(SEED)\n",
    "torch.backends.cudnn.deterministic = True"
   ]
  },
  {
   "cell_type": "code",
   "execution_count": 4,
   "metadata": {},
   "outputs": [
    {
     "name": "stdout",
     "output_type": "stream",
     "text": [
      "cuda\n"
     ]
    }
   ],
   "source": [
    "# device = torch.device('cuda' if torch.cuda.is_available() else 'cpu')\n",
    "device = torch.device('cuda' if torch.cuda.is_available() else 'cpu')\n",
    "print(device)"
   ]
  },
  {
   "cell_type": "markdown",
   "metadata": {},
   "source": [
    "## 1. ETL: Loading the dataset\n",
    "\n",
    "**Note**: Here I chose to translate English to Hindi.\n",
    "\n",
    "## Dataset : Hind EnCorp\n",
    "HindEnCorp is a comprehensive resource for Hindi-English machine translation and bilingual NLP research, offering both aligned sentence pairs and large-scale Hindi monolingual data.\n",
    "\n",
    "## Authors\n",
    "The HindEnCorp project was led by researchers at Charles University in Prague (Czech Republic), particularly from the Institute of Formal and Applied Linguistics (UFAL). The main authors cited in the LREC 2014 publication are:\n",
    "\n",
    "- Aleš Tamchyna\n",
    "- Ondřej Bojar\n",
    "- Petr Rychlý\n",
    "- Jan Hajič"
   ]
  },
  {
   "cell_type": "code",
   "execution_count": 5,
   "metadata": {},
   "outputs": [
    {
     "name": "stdout",
     "output_type": "stream",
     "text": [
      "Train size: 8000, Validation size: 1000, Test size: 1000\n"
     ]
    }
   ],
   "source": [
    "# Load dataset\n",
    "dataset = load_dataset(\"pary/hind_encorp\", trust_remote_code=True, split=\"train\").select(range(10000))\n",
    "\n",
    "# Shuffle dataset before splitting\n",
    "dataset = dataset.shuffle(seed=42)\n",
    "\n",
    "# Define split sizes\n",
    "train_size = int(0.8 * len(dataset))\n",
    "val_size = int(0.1 * len(dataset))\n",
    "test_size = int(0.1 * len(dataset))\n",
    "\n",
    "# Split dataset\n",
    "train_dataset = dataset.select(range(train_size))\n",
    "val_dataset = dataset.select(range(train_size, train_size + val_size))\n",
    "test_dataset = dataset.select(range(train_size + val_size, len(dataset)))\n",
    "\n",
    "# Store in a DatasetDict\n",
    "dataset = DatasetDict({\n",
    "    \"train\": train_dataset,\n",
    "    \"val\": val_dataset,\n",
    "    \"test\": test_dataset\n",
    "})\n",
    "\n",
    "print(f\"Train size: {len(train_dataset)}, Validation size: {len(val_dataset)}, Test size: {len(test_dataset)}\")"
   ]
  },
  {
   "cell_type": "markdown",
   "metadata": {},
   "source": [
    "## 2. EDA - simple investigation"
   ]
  },
  {
   "cell_type": "code",
   "execution_count": 6,
   "metadata": {},
   "outputs": [
    {
     "data": {
      "text/plain": [
       "{'en': 'Mara River', 'hi': 'मारा नदी'}"
      ]
     },
     "execution_count": 6,
     "metadata": {},
     "output_type": "execute_result"
    }
   ],
   "source": [
    "dataset['train']['translation'][0]"
   ]
  },
  {
   "cell_type": "markdown",
   "metadata": {},
   "source": [
    "## 3. Preprocessing \n",
    "\n",
    "### Tokenizing\n",
    "\n",
    "**Note**: the models must first be downloaded using the following on the command line: \n",
    "```\n",
    "python3 -m spacy download en_core_web_sm\n",
    "python3 -m spacy download de_core_news_sm\n",
    "```\n",
    "\n",
    "First, since we have two languages, let's create some constants to represent that.  Also, let's create two dicts: one for holding our tokenizers and one for holding all the vocabs with assigned numbers for each unique word"
   ]
  },
  {
   "cell_type": "code",
   "execution_count": 7,
   "metadata": {},
   "outputs": [],
   "source": [
    "SRC_LANGUAGE = 'en'\n",
    "TRG_LANGUAGE = 'hi'"
   ]
  },
  {
   "cell_type": "markdown",
   "metadata": {},
   "source": [
    "Before we tokenize, let's define some special symbols so our neural network understand the embeddings of these symbols, namely the unknown, the padding, the start of sentence, and end of sentence."
   ]
  },
  {
   "cell_type": "code",
   "execution_count": 8,
   "metadata": {},
   "outputs": [],
   "source": [
    "UNK_IDX = 0\n",
    "PAD_IDX = 1\n",
    "SOS_IDX = 2\n",
    "EOS_IDX = 3\n",
    "SPECIAL_TOKENS = ['<unk>', '<pad>', '<sos>', '<eos>']"
   ]
  },
  {
   "cell_type": "code",
   "execution_count": 9,
   "metadata": {},
   "outputs": [],
   "source": [
    "class Tokenizer:\n",
    "    def __init__(self, texts, language='en'):\n",
    "        \n",
    "        self.language = language\n",
    "        self.word2idx = {'<unk>': UNK_IDX, '<pad>': PAD_IDX, '<sos>': SOS_IDX, '<eos>': EOS_IDX}\n",
    "        self.idx2word = {v: k for k, v in self.word2idx.items()}\n",
    "        self.vocab_size = len(SPECIAL_TOKENS)\n",
    "        \n",
    "        \n",
    "        # Build vocabulary\n",
    "        word_freq = Counter()\n",
    "        for i, text in enumerate(texts):\n",
    "            if i % 10000 == 0:\n",
    "            \n",
    "            # Apply language-specific normalization\n",
    "             if language == 'en':\n",
    "                text = text.lower()\n",
    "            \n",
    "            words = text.split()\n",
    "            word_freq.update(words)\n",
    "        \n",
    "        # Add most common words to vocabulary\n",
    "        for word, freq in word_freq.most_common(50000 - len(SPECIAL_TOKENS)):\n",
    "            if word not in self.word2idx:\n",
    "                self.word2idx[word] = self.vocab_size\n",
    "                self.idx2word[self.vocab_size] = word\n",
    "                self.vocab_size += 1      \n",
    "    \n",
    "    def encode(self, text):\n",
    "        if self.language == 'en':\n",
    "            text = text.lower()\n",
    "        words = text.split()\n",
    "        return [SOS_IDX] + [self.word2idx.get(word, UNK_IDX) for word in words] + [EOS_IDX]\n",
    "    \n",
    "    def decode(self, indices):\n",
    "        return ' '.join([self.idx2word.get(idx, '<unk>') for idx in indices if idx not in [PAD_IDX, SOS_IDX, EOS_IDX]])"
   ]
  },
  {
   "cell_type": "code",
   "execution_count": 10,
   "metadata": {},
   "outputs": [],
   "source": [
    "# create tokens\n",
    "src_texts = [sample['translation']['en'] for sample in dataset['train']]\n",
    "trg_texts = [sample['translation']['hi'] for sample in dataset['train']]\n",
    "src_tokenizer = Tokenizer(src_texts, language='en')\n",
    "trg_tokenizer = Tokenizer(trg_texts, language='hi')"
   ]
  },
  {
   "cell_type": "code",
   "execution_count": 11,
   "metadata": {},
   "outputs": [
    {
     "name": "stdout",
     "output_type": "stream",
     "text": [
      "English tokens: [2, 7265, 979, 3]\n",
      "Hindi tokens: [2, 1863, 412, 3]\n"
     ]
    }
   ],
   "source": [
    "sample = dataset['train'][0]\n",
    "\n",
    "tokens_en = src_tokenizer.encode(sample['translation']['en'])\n",
    "tokens_hi = trg_tokenizer.encode(sample['translation']['hi'])\n",
    "\n",
    "print(\"English tokens:\", tokens_en)\n",
    "print(\"Hindi tokens:\", tokens_hi)"
   ]
  },
  {
   "cell_type": "code",
   "execution_count": 12,
   "metadata": {},
   "outputs": [
    {
     "name": "stdout",
     "output_type": "stream",
     "text": [
      "Token to text (English): mara river\n",
      "Token to text (Hindi): philosophy 5\n"
     ]
    }
   ],
   "source": [
    "print(\"Token to text (English):\",src_tokenizer.decode(tokens_en))\n",
    "print(\"Token to text (Hindi):\",src_tokenizer.decode(tokens_hi))"
   ]
  },
  {
   "cell_type": "markdown",
   "metadata": {},
   "source": [
    "## 4. Preparing the dataloader\n",
    "\n",
    "One thing we change here is the <code>collate_fn</code> which now also returns the length of sentence.  This is required for <code>packed_padded_sequence</code>"
   ]
  },
  {
   "cell_type": "code",
   "execution_count": 13,
   "metadata": {},
   "outputs": [],
   "source": [
    "# convert TranslationDataset class to function\n",
    "from torch.utils.data import Dataset\n",
    "\n",
    "class TranslationDataset(Dataset):\n",
    "    def __init__(self, dataset_split, src_tokenizer, trg_tokenizer, max_len=2000):\n",
    "        self.examples = dataset_split\n",
    "        self.src_tokenizer = src_tokenizer\n",
    "        self.trg_tokenizer = trg_tokenizer\n",
    "        self.max_len = max_len\n",
    "    \n",
    "    def __len__(self):\n",
    "        return len(self.examples)\n",
    "    \n",
    "    def __getitem__(self, idx):\n",
    "        example = self.examples[idx]\n",
    "        src_text = example['translation']['en']\n",
    "        trg_text = example['translation']['hi']\n",
    "        \n",
    "        src_tokens = self.src_tokenizer.encode(src_text)[:self.max_len]\n",
    "        trg_tokens = self.trg_tokenizer.encode(trg_text)[:self.max_len]\n",
    "        \n",
    "        return torch.tensor(src_tokens), torch.tensor(trg_tokens)"
   ]
  },
  {
   "cell_type": "code",
   "execution_count": 14,
   "metadata": {},
   "outputs": [],
   "source": [
    "train_dataset = TranslationDataset(dataset['train'], src_tokenizer, trg_tokenizer)\n",
    "valid_dataset = TranslationDataset(dataset['val'], src_tokenizer, trg_tokenizer)\n",
    "test_dataset = TranslationDataset(dataset['test'], src_tokenizer, trg_tokenizer)"
   ]
  },
  {
   "cell_type": "code",
   "execution_count": 15,
   "metadata": {},
   "outputs": [],
   "source": [
    "def collate_fn(batch):\n",
    "    src_batch, trg_batch = [], []\n",
    "    for src_sample, trg_sample in batch:\n",
    "        src_batch.append(src_sample)\n",
    "        trg_batch.append(trg_sample)\n",
    "    \n",
    "    # Pad sequences to the maximum length in the batch\n",
    "    src_batch = nn.utils.rnn.pad_sequence(src_batch, padding_value=PAD_IDX, batch_first=True)\n",
    "    trg_batch = nn.utils.rnn.pad_sequence(trg_batch, padding_value=PAD_IDX, batch_first=True)\n",
    "    \n",
    "    return src_batch, trg_batch"
   ]
  },
  {
   "cell_type": "code",
   "execution_count": 16,
   "metadata": {},
   "outputs": [],
   "source": [
    "BATCH_SIZE = 32\n",
    "train_loader = DataLoader(train_dataset, batch_size=BATCH_SIZE, shuffle=True, collate_fn=collate_fn)\n",
    "valid_loader = DataLoader(valid_dataset, batch_size=BATCH_SIZE, shuffle=False, collate_fn=collate_fn)\n",
    "test_loader = DataLoader(test_dataset, batch_size=BATCH_SIZE, shuffle=False, collate_fn=collate_fn)"
   ]
  },
  {
   "cell_type": "markdown",
   "metadata": {},
   "source": [
    "## 5. Design the model\n",
    "\n",
    "<img src=\"../figures/transformer-encoder.png\" >"
   ]
  },
  {
   "cell_type": "markdown",
   "metadata": {},
   "source": [
    "### Encoder Layer"
   ]
  },
  {
   "cell_type": "code",
   "execution_count": 17,
   "metadata": {},
   "outputs": [],
   "source": [
    "class EncoderLayer(nn.Module):\n",
    "    def __init__(self, hid_dim, n_heads, pf_dim, dropout, attn_variant, device):\n",
    "        super().__init__()\n",
    "        self.self_attn_layer_norm = nn.LayerNorm(hid_dim)\n",
    "        self.ff_layer_norm = nn.LayerNorm(hid_dim)\n",
    "        self.self_attention = MultiHeadAttentionLayer(hid_dim, n_heads, dropout, attn_variant, device)\n",
    "        self.positionwise_feedforward = nn.Sequential(nn.Linear(hid_dim, pf_dim),nn.ReLU(),nn.Dropout(dropout),nn.Linear(pf_dim, hid_dim))\n",
    "        self.dropout = nn.Dropout(dropout)\n",
    "\n",
    "    def forward(self, src, src_mask):\n",
    "        _src, _ = self.self_attention(src, src, src, src_mask)\n",
    "        src = self.self_attn_layer_norm(src + self.dropout(_src))\n",
    "        _src = self.positionwise_feedforward(src)\n",
    "        src = self.ff_layer_norm(src + self.dropout(_src))\n",
    "        return src"
   ]
  },
  {
   "cell_type": "markdown",
   "metadata": {},
   "source": [
    "### Encoder"
   ]
  },
  {
   "cell_type": "code",
   "execution_count": 18,
   "metadata": {},
   "outputs": [],
   "source": [
    "class Encoder(nn.Module):\n",
    "    def __init__(self, input_dim, hid_dim, n_layers, n_heads, pf_dim, dropout, attn_variant, device, max_length=500):\n",
    "        super().__init__()\n",
    "        self.device = device\n",
    "        self.tok_embedding = nn.Embedding(input_dim, hid_dim)\n",
    "        self.pos_embedding = nn.Embedding(max_length, hid_dim)\n",
    "        self.layers = nn.ModuleList([EncoderLayer(hid_dim, n_heads, pf_dim, dropout, attn_variant, device) for _ in range(n_layers) ])\n",
    "        self.dropout = nn.Dropout(dropout)\n",
    "        self.scale = torch.sqrt(torch.FloatTensor([hid_dim])).to(device)\n",
    "\n",
    "    def forward(self, src, src_mask):\n",
    "        batch_size = src.shape[0]\n",
    "        src_len = src.shape[1]\n",
    "        pos = torch.arange(0, src_len).unsqueeze(0).repeat(batch_size, 1).to(self.device)\n",
    "        src = self.dropout((self.tok_embedding(src) * self.scale) + self.pos_embedding(pos))\n",
    "        \n",
    "        for layer in self.layers:\n",
    "            src = layer(src, src_mask)\n",
    "        return src"
   ]
  },
  {
   "cell_type": "markdown",
   "metadata": {},
   "source": [
    "### Mutli Head Attention Layer\n",
    "\n",
    "<img src = \"../figures/transformer-attention.png\" width=\"700\">\n",
    "\n",
    "$$ \\text{Attention}(Q, K, V) = \\text{Softmax} \\big( \\frac{QK^T}{\\sqrt{d_k}} \\big)V $$ "
   ]
  },
  {
   "cell_type": "code",
   "execution_count": 19,
   "metadata": {},
   "outputs": [],
   "source": [
    "class MultiHeadAttentionLayer(nn.Module):\n",
    "    def __init__(self, hid_dim, n_heads, dropout, attn_variant, device):\n",
    "        super().__init__()\n",
    "        \n",
    "        assert hid_dim % n_heads == 0\n",
    "        \n",
    "        self.hid_dim = hid_dim\n",
    "        self.n_heads = n_heads\n",
    "        self.head_dim = hid_dim // n_heads\n",
    "        self.attn_variant = attn_variant\n",
    "        self.device = device\n",
    "        \n",
    "        # Initialize layers based on attention variant\n",
    "        if attn_variant == 'multiplicative':\n",
    "            self.W = nn.Linear(self.head_dim, self.head_dim)\n",
    "        elif attn_variant == 'additive':\n",
    "            self.Wa = nn.Linear(self.head_dim, self.head_dim)\n",
    "            self.Ua = nn.Linear(self.head_dim, self.head_dim)\n",
    "            self.V = nn.Linear(self.head_dim, 1)\n",
    "        # General attention doesn't need additional parameters\n",
    "        \n",
    "        self.fc_q = nn.Linear(hid_dim, hid_dim)\n",
    "        self.fc_k = nn.Linear(hid_dim, hid_dim)\n",
    "        self.fc_v = nn.Linear(hid_dim, hid_dim)\n",
    "        \n",
    "        self.fc_o = nn.Linear(hid_dim, hid_dim)\n",
    "        \n",
    "        self.dropout = nn.Dropout(dropout)\n",
    "        \n",
    "        self.scale = torch.sqrt(torch.FloatTensor([self.head_dim])).to(device)\n",
    "        \n",
    "    def forward(self, query, key, value, mask=None):\n",
    "        batch_size = query.shape[0]\n",
    "        \n",
    "        Q = self.fc_q(query)\n",
    "        K = self.fc_k(key)\n",
    "        V = self.fc_v(value)\n",
    "        \n",
    "        # Split into heads\n",
    "        Q = Q.view(batch_size, -1, self.n_heads, self.head_dim).permute(0, 2, 1, 3)\n",
    "        K = K.view(batch_size, -1, self.n_heads, self.head_dim).permute(0, 2, 1, 3)\n",
    "        V = V.view(batch_size, -1, self.n_heads, self.head_dim).permute(0, 2, 1, 3)\n",
    "        \n",
    "        # Calculate attention scores based on variant\n",
    "        if self.attn_variant == 'multiplicative':\n",
    "            # Multiplicative attention\n",
    "            K_transformed = self.W(K)\n",
    "            energy = torch.matmul(Q, K_transformed.transpose(-2, -1)) / self.scale\n",
    "            \n",
    "        elif self.attn_variant == 'general':\n",
    "            # General attention\n",
    "            energy = torch.matmul(Q, K.transpose(-2, -1)) / self.scale\n",
    "            \n",
    "        elif self.attn_variant == 'additive':\n",
    "            # Additive attention\n",
    "            Q_transformed = self.Wa(Q)\n",
    "            K_transformed = self.Ua(K)\n",
    "            \n",
    "            # Expand dimensions for broadcasting\n",
    "            Q_expanded = Q_transformed.unsqueeze(-2)  # [batch, heads, query_len, 1, head_dim]\n",
    "            K_expanded = K_transformed.unsqueeze(-3)  # [batch, heads, 1, key_len, head_dim]\n",
    "            \n",
    "            # Calculate additive attention\n",
    "            energy = torch.tanh(Q_expanded + K_expanded)  # [batch, heads, query_len, key_len, head_dim]\n",
    "            energy = self.V(energy).squeeze(-1)  # [batch, heads, query_len, key_len]\n",
    "        \n",
    "        if mask is not None:\n",
    "            energy = energy.masked_fill(mask == 0, -1e10)\n",
    "        \n",
    "        attention = torch.softmax(energy, dim=-1)\n",
    "        attention = self.dropout(attention)\n",
    "        \n",
    "        x = torch.matmul(attention, V)\n",
    "        x = x.permute(0, 2, 1, 3).contiguous()\n",
    "        x = x.view(batch_size, -1, self.hid_dim)\n",
    "        x = self.fc_o(x)\n",
    "        \n",
    "        return x, attention"
   ]
  },
  {
   "cell_type": "markdown",
   "metadata": {},
   "source": [
    "### Decoder Layer\n",
    "\n",
    "<img src = \"../figures/transformer-decoder.png\" >"
   ]
  },
  {
   "cell_type": "code",
   "execution_count": 20,
   "metadata": {},
   "outputs": [],
   "source": [
    "class DecoderLayer(nn.Module):\n",
    "    def __init__(self, hid_dim, n_heads, pf_dim, dropout, attn_variant, device):\n",
    "        super().__init__()\n",
    "        self.self_attn_layer_norm = nn.LayerNorm(hid_dim)\n",
    "        self.enc_attn_layer_norm = nn.LayerNorm(hid_dim)\n",
    "        self.ff_layer_norm = nn.LayerNorm(hid_dim)\n",
    "        self.self_attention = MultiHeadAttentionLayer(hid_dim, n_heads, dropout, attn_variant, device)\n",
    "        self.encoder_attention = MultiHeadAttentionLayer(hid_dim, n_heads, dropout, attn_variant, device)\n",
    "        self.positionwise_feedforward = nn.Sequential(nn.Linear(hid_dim, pf_dim),nn.ReLU(),nn.Dropout(dropout),nn.Linear(pf_dim, hid_dim))\n",
    "        self.dropout = nn.Dropout(dropout)\n",
    "\n",
    "    def forward(self, trg, enc_src, trg_mask, src_mask):\n",
    "        _trg, _ = self.self_attention(trg, trg, trg, trg_mask)\n",
    "        trg = self.self_attn_layer_norm(trg + self.dropout(_trg))\n",
    "        _trg, attention = self.encoder_attention(trg, enc_src, enc_src, src_mask)\n",
    "        trg = self.enc_attn_layer_norm(trg + self.dropout(_trg))\n",
    "        _trg = self.positionwise_feedforward(trg)\n",
    "        trg = self.ff_layer_norm(trg + self.dropout(_trg))\n",
    "        return trg, attention"
   ]
  },
  {
   "cell_type": "markdown",
   "metadata": {},
   "source": [
    "### Decoder"
   ]
  },
  {
   "cell_type": "code",
   "execution_count": 21,
   "metadata": {},
   "outputs": [],
   "source": [
    "class Decoder(nn.Module):\n",
    "    def __init__(self, output_dim, hid_dim, n_layers, n_heads, pf_dim, dropout, attn_variant, device, max_length=500):\n",
    "        super().__init__()\n",
    "        self.device = device\n",
    "        self.tok_embedding = nn.Embedding(output_dim, hid_dim)\n",
    "        self.pos_embedding = nn.Embedding(max_length, hid_dim)\n",
    "        self.layers = nn.ModuleList([\n",
    "            DecoderLayer(hid_dim, n_heads, pf_dim, dropout, attn_variant, device)\n",
    "            for _ in range(n_layers)\n",
    "        ])\n",
    "        self.fc_out = nn.Linear(hid_dim, output_dim)\n",
    "        self.dropout = nn.Dropout(dropout)\n",
    "        self.scale = torch.sqrt(torch.FloatTensor([hid_dim])).to(device)\n",
    "\n",
    "    def forward(self, trg, enc_src, trg_mask, src_mask):\n",
    "        batch_size = trg.shape[0]\n",
    "        trg_len = trg.shape[1]\n",
    "        pos = torch.arange(0, trg_len).unsqueeze(0).repeat(batch_size, 1).to(self.device)\n",
    "        trg = self.dropout((self.tok_embedding(trg) * self.scale) + self.pos_embedding(pos))\n",
    "        \n",
    "        for layer in self.layers:\n",
    "            trg, attention = layer(trg, enc_src, trg_mask, src_mask)\n",
    "            \n",
    "        output = self.fc_out(trg)\n",
    "        return output, attention"
   ]
  },
  {
   "cell_type": "markdown",
   "metadata": {},
   "source": [
    "### Putting them together (become Seq2Seq!)\n",
    "\n",
    "Our `trg_sub_mask` will look something like this (for a target with 5 tokens):\n",
    "\n",
    "$$\\begin{matrix}\n",
    "1 & 0 & 0 & 0 & 0\\\\\n",
    "1 & 1 & 0 & 0 & 0\\\\\n",
    "1 & 1 & 1 & 0 & 0\\\\\n",
    "1 & 1 & 1 & 1 & 0\\\\\n",
    "1 & 1 & 1 & 1 & 1\\\\\n",
    "\\end{matrix}$$\n",
    "\n",
    "The \"subsequent\" mask is then logically anded with the padding mask, this combines the two masks ensuring both the subsequent tokens and the padding tokens cannot be attended to. For example if the last two tokens were `<pad>` tokens the mask would look like:\n",
    "\n",
    "$$\\begin{matrix}\n",
    "1 & 0 & 0 & 0 & 0\\\\\n",
    "1 & 1 & 0 & 0 & 0\\\\\n",
    "1 & 1 & 1 & 0 & 0\\\\\n",
    "1 & 1 & 1 & 0 & 0\\\\\n",
    "1 & 1 & 1 & 0 & 0\\\\\n",
    "\\end{matrix}$$"
   ]
  },
  {
   "cell_type": "code",
   "execution_count": 22,
   "metadata": {},
   "outputs": [],
   "source": [
    "class Seq2SeqTransformer(nn.Module):\n",
    "    def __init__(self, encoder, decoder, src_pad_idx, trg_pad_idx, device):\n",
    "        super().__init__()\n",
    "        self.encoder = encoder\n",
    "        self.decoder = decoder\n",
    "        self.src_pad_idx = src_pad_idx\n",
    "        self.trg_pad_idx = trg_pad_idx\n",
    "        self.device = device\n",
    "        \n",
    "    def make_src_mask(self, src):\n",
    "        src_mask = (src != self.src_pad_idx).unsqueeze(1).unsqueeze(2)\n",
    "        return src_mask\n",
    "        \n",
    "    def make_trg_mask(self, trg):\n",
    "        trg_pad_mask = (trg != self.trg_pad_idx).unsqueeze(1).unsqueeze(2)\n",
    "        trg_len = trg.shape[1]\n",
    "        trg_sub_mask = torch.tril(torch.ones((trg_len, trg_len), device=self.device)).bool()\n",
    "        trg_mask = trg_pad_mask & trg_sub_mask\n",
    "        return trg_mask\n",
    "\n",
    "    def forward(self, src, trg):\n",
    "        src_mask = self.make_src_mask(src)\n",
    "        trg_mask = self.make_trg_mask(trg)\n",
    "        enc_src = self.encoder(src, src_mask)\n",
    "        output, attention = self.decoder(trg, enc_src, trg_mask, src_mask)\n",
    "        return output, attention"
   ]
  },
  {
   "cell_type": "markdown",
   "metadata": {},
   "source": [
    "## 6. Training"
   ]
  },
  {
   "cell_type": "markdown",
   "metadata": {},
   "source": [
    "Then, we'll define our training loop. This is the exact same as the one used in the previous tutorial.\n",
    "\n",
    "As we want our model to predict the `<eos>` token but not have it be an input into our model we simply slice the `<eos>` token off the end of the sequence. Thus:\n",
    "\n",
    "$$\\begin{align*}\n",
    "\\text{trg} &= [sos, x_1, x_2, x_3, eos]\\\\\n",
    "\\text{trg[:-1]} &= [sos, x_1, x_2, x_3]\n",
    "\\end{align*}$$\n",
    "\n",
    "$x_i$ denotes actual target sequence element. We then feed this into the model to get a predicted sequence that should hopefully predict the `<eos>` token:\n",
    "\n",
    "$$\\begin{align*}\n",
    "\\text{output} &= [y_1, y_2, y_3, eos]\n",
    "\\end{align*}$$\n",
    "\n",
    "$y_i$ denotes predicted target sequence element. We then calculate our loss using the original `trg` tensor with the `<sos>` token sliced off the front, leaving the `<eos>` token:\n",
    "\n",
    "$$\\begin{align*}\n",
    "\\text{output} &= [y_1, y_2, y_3, eos]\\\\\n",
    "\\text{trg[1:]} &= [x_1, x_2, x_3, eos]\n",
    "\\end{align*}$$\n",
    "\n",
    "We then calculate our losses and update our parameters as is standard."
   ]
  },
  {
   "cell_type": "code",
   "execution_count": 23,
   "metadata": {},
   "outputs": [],
   "source": [
    "def train(model, loader, optimizer, criterion, clip, loader_length):\n",
    "    \n",
    "    model.train()\n",
    "    epoch_loss = 0\n",
    "    step = 0\n",
    "    \n",
    "    for src, trg in loader:\n",
    "        \n",
    "        step += 1\n",
    "        \n",
    "        src = src.to(device)\n",
    "        trg = trg.to(device)\n",
    "        \n",
    "        optimizer.zero_grad()\n",
    "        \n",
    "        #trg[:, :-1] remove the eos, e.g., \"<sos> I love sushi\" since teaching forcing, the input does not need to have eos\n",
    "        output, _ = model(src, trg[:,:-1])\n",
    "                \n",
    "        #output = [batch size, trg len - 1, output dim]\n",
    "        #trg    = [batch size, trg len]\n",
    "            \n",
    "        output_dim = output.shape[-1]\n",
    "            \n",
    "        output = output.contiguous().view(-1, output_dim)\n",
    "        trg = trg[:,1:].contiguous().view(-1) #trg[:, 1:] remove the sos, e.g., \"i love sushi <eos>\" since in teaching forcing, the output does not have sos\n",
    "                \n",
    "        #output = [batch size * trg len - 1, output dim]\n",
    "        #trg    = [batch size * trg len - 1]\n",
    "            \n",
    "        loss = criterion(output, trg)\n",
    "        \n",
    "        loss.backward()\n",
    "        \n",
    "        torch.nn.utils.clip_grad_norm_(model.parameters(), clip)\n",
    "        \n",
    "        optimizer.step()\n",
    "        \n",
    "        epoch_loss += loss.item()\n",
    "        \n",
    "    return epoch_loss / loader_length\n"
   ]
  },
  {
   "cell_type": "markdown",
   "metadata": {},
   "source": [
    "Our evaluation loop is similar to our training loop, however as we aren't updating any parameters we don't need to pass an optimizer or a clip value."
   ]
  },
  {
   "cell_type": "code",
   "execution_count": 24,
   "metadata": {},
   "outputs": [],
   "source": [
    "def evaluate(model, loader, criterion, loader_length):\n",
    "    \n",
    "    model.eval()\n",
    "    epoch_loss = 0\n",
    "    \n",
    "    with torch.no_grad():\n",
    "        for src,  trg in loader:\n",
    "        \n",
    "            src = src.to(device)\n",
    "            trg = trg.to(device)\n",
    "\n",
    "            output, _ = model(src, trg[:,:-1])\n",
    "            \n",
    "            output_dim = output.shape[-1]\n",
    "            \n",
    "            output = output.contiguous().view(-1, output_dim)\n",
    "            trg = trg[:,1:].contiguous().view(-1)\n",
    "            \n",
    "            #output = [batch size * trg len - 1, output dim]\n",
    "            #trg = [batch size * trg len - 1]\n",
    "            \n",
    "            loss = criterion(output, trg)\n",
    "\n",
    "            epoch_loss += loss.item()\n",
    "        \n",
    "    return epoch_loss / loader_length"
   ]
  },
  {
   "cell_type": "markdown",
   "metadata": {},
   "source": [
    "### Putting everything together\n",
    "\n",
    "Finally, we train our actual model. This model is almost 3x faster than the convolutional sequence-to-sequence model and also achieves a lower validation perplexity!\n",
    "\n",
    "**Note: similar to CNN, this model always has a teacher forcing ratio of 1, i.e. it will always use the ground truth next token from the target sequence (this is simply because CNN do everything in parallel so we cannot have the next token). This means we cannot compare perplexity values against the previous models when they are using a teacher forcing ratio that is not 1. To understand this, try run previous tutorials with teaching forcing ratio of 1, you will get very low perplexity.  **   "
   ]
  },
  {
   "cell_type": "code",
   "execution_count": 25,
   "metadata": {},
   "outputs": [],
   "source": [
    "import time\n",
    "def epoch_time(start_time, end_time):\n",
    "    elapsed_time = end_time - start_time\n",
    "    elapsed_mins = int(elapsed_time / 60)\n",
    "    elapsed_secs = int(elapsed_time - (elapsed_mins * 60))\n",
    "    return elapsed_mins, elapsed_secs"
   ]
  },
  {
   "cell_type": "code",
   "execution_count": 26,
   "metadata": {},
   "outputs": [],
   "source": [
    "attention = ['general','multiplicative',  'additive']"
   ]
  },
  {
   "cell_type": "code",
   "execution_count": 27,
   "metadata": {},
   "outputs": [],
   "source": [
    "# Initialize Encoder and Decoder\n",
    "INPUT_DIM = src_tokenizer.vocab_size\n",
    "OUTPUT_DIM = trg_tokenizer.vocab_size\n",
    "HID_DIM = 256\n",
    "ENC_LAYERS = 2\n",
    "DEC_LAYERS = 2\n",
    "ENC_HEADS = 4\n",
    "DEC_HEADS = 4\n",
    "ENC_PF_DIM = 256\n",
    "DEC_PF_DIM = 256\n",
    "ENC_DROPOUT = 0.1\n",
    "DEC_DROPOUT = 0.1"
   ]
  },
  {
   "cell_type": "code",
   "execution_count": 61,
   "metadata": {},
   "outputs": [],
   "source": [
    "results = {\n",
    "        'Attention Type': [],\n",
    "        'Training Loss': [],\n",
    "        'Training PPL': [],\n",
    "        'Validation Loss': [],\n",
    "        'Validation PPL': [],\n",
    "        'Training Time': []\n",
    "    }"
   ]
  },
  {
   "cell_type": "code",
   "execution_count": 34,
   "metadata": {},
   "outputs": [],
   "source": [
    "import pickle"
   ]
  },
  {
   "cell_type": "code",
   "execution_count": 36,
   "metadata": {},
   "outputs": [
    {
     "name": "stdout",
     "output_type": "stream",
     "text": [
      "Attention :  general\n",
      "Epoch 1 \n",
      "New best validation loss: 7.0801\n",
      "Epoch: 01\n",
      "Train Loss: 7.425 | Train PPL: 1677.404\n",
      "Val. Loss: 7.080 | Val. PPL: 1188.065\n",
      "Epoch 2 \n",
      "New best validation loss: 6.8883\n",
      "Epoch: 02\n",
      "Train Loss: 6.584 | Train PPL: 723.569\n",
      "Val. Loss: 6.888 | Val. PPL: 980.698\n",
      "Epoch 3 \n",
      "New best validation loss: 6.8189\n",
      "Epoch: 03\n",
      "Train Loss: 6.073 | Train PPL: 433.946\n",
      "Val. Loss: 6.819 | Val. PPL: 914.948\n",
      "Training Time:  884.9905552864075 \n",
      "\n",
      "\n",
      "Attention :  multiplicative\n",
      "Epoch 1 \n",
      "New best validation loss: 7.0461\n",
      "Epoch: 01\n",
      "Train Loss: 7.398 | Train PPL: 1632.610\n",
      "Val. Loss: 7.046 | Val. PPL: 1148.366\n",
      "Epoch 2 \n",
      "New best validation loss: 6.8167\n",
      "Epoch: 02\n",
      "Train Loss: 6.575 | Train PPL: 716.910\n",
      "Val. Loss: 6.817 | Val. PPL: 912.947\n",
      "Epoch 3 \n",
      "New best validation loss: 6.7694\n",
      "Epoch: 03\n",
      "Train Loss: 6.075 | Train PPL: 434.997\n",
      "Val. Loss: 6.769 | Val. PPL: 870.799\n",
      "Training Time:  928.3740427494049 \n",
      "\n",
      "\n",
      "Attention :  additive\n",
      "Epoch 1 \n",
      "New best validation loss: 6.9655\n",
      "Epoch: 01\n",
      "Train Loss: 7.402 | Train PPL: 1638.481\n",
      "Val. Loss: 6.966 | Val. PPL: 1059.484\n",
      "Epoch 2 \n",
      "New best validation loss: 6.7991\n",
      "Epoch: 02\n",
      "Train Loss: 6.456 | Train PPL: 636.212\n",
      "Val. Loss: 6.799 | Val. PPL: 897.041\n",
      "Epoch 3 \n",
      "New best validation loss: 6.7178\n",
      "Epoch: 03\n",
      "Train Loss: 5.869 | Train PPL: 353.777\n",
      "Val. Loss: 6.718 | Val. PPL: 826.957\n",
      "Training Time:  2992.822583436966 \n",
      "\n",
      "\n"
     ]
    }
   ],
   "source": [
    "import torch.optim as optim\n",
    "import matplotlib.pyplot as plt\n",
    "\n",
    "epochs=3\n",
    "clip=1\n",
    "lr = 0.0005\n",
    "\n",
    "for attn_variant in attention:\n",
    "    print(\"Attention : \",attn_variant)\n",
    "    start_training_time = time.time()\n",
    "    \n",
    "    enc = Encoder(INPUT_DIM, \n",
    "                  HID_DIM, \n",
    "                  ENC_LAYERS, \n",
    "                  ENC_HEADS, \n",
    "                  ENC_PF_DIM, \n",
    "                  ENC_DROPOUT, \n",
    "                  attn_variant, \n",
    "                  device)\n",
    "    \n",
    "    dec = Decoder(OUTPUT_DIM, \n",
    "                  HID_DIM, \n",
    "                  DEC_LAYERS, \n",
    "                  DEC_HEADS, \n",
    "                  DEC_PF_DIM, \n",
    "                  DEC_DROPOUT, \n",
    "                  attn_variant, \n",
    "                  device)\n",
    "    \n",
    "    model = Seq2SeqTransformer(enc, dec, PAD_IDX, PAD_IDX, device).to(device)    \n",
    "    optimizer = optim.Adam(model.parameters(), lr=lr)\n",
    "    criterion = nn.CrossEntropyLoss(ignore_index=PAD_IDX)\n",
    "    \n",
    "    best_valid_loss = float('inf')\n",
    "    train_losses = []\n",
    "    valid_losses = []\n",
    "    \n",
    "    for epoch in range(epochs):\n",
    "        print(f\"Epoch {epoch+1} \")\n",
    "        train_loss = train(model, train_loader, optimizer, criterion, clip, len(train_loader))\n",
    "        valid_loss = evaluate(model, valid_loader, criterion, len(valid_loader))\n",
    "        \n",
    "        train_losses.append(train_loss)\n",
    "        valid_losses.append(valid_loss)\n",
    "        \n",
    "        if valid_loss < best_valid_loss:\n",
    "            best_valid_loss = valid_loss\n",
    "            print(f\"New best validation loss: {valid_loss:.4f}\")\n",
    "            torch.save(model.state_dict(), f'model-{attn_variant}.pt')\n",
    "        \n",
    "        print(f'Epoch: {epoch+1:02}')\n",
    "        print(f'Train Loss: {train_loss:.3f} | Train PPL: {math.exp(train_loss):7.3f}')\n",
    "        print(f'Val. Loss: {valid_loss:.3f} | Val. PPL: {math.exp(valid_loss):7.3f}')\n",
    "    \n",
    "    # Calculate final metrics\n",
    "    training_time = time.time() - start_training_time\n",
    "    print(\"Training Time: \",training_time,\"\\n\\n\")\n",
    "    \n",
    "    model_name=f'model-{attn_variant}.pkl'\n",
    "    with open(model_name, 'wb') as f:\n",
    "        pickle.dump(model, f)\n",
    "    # Store results\n",
    "    results['Attention Type'].append(attn_variant)\n",
    "    results['Training Loss'].append(f\"{train_losses[-1]:.3f}\")\n",
    "    results['Training PPL'].append(f\"{math.exp(train_losses[-1]):.3f}\")\n",
    "    results['Validation Loss'].append(f\"{valid_losses[-1]:.3f}\")\n",
    "    results['Validation PPL'].append(f\"{math.exp(valid_losses[-1]):.3f}\")\n",
    "    results['Training Time'].append(f\"{training_time/60:.1f}m\")\n",
    "    \n",
    "    # Plot training curves\n",
    "    plt.figure(figsize=(10, 6))\n",
    "    plt.plot(train_losses, label='Train Loss')\n",
    "    plt.plot(valid_losses, label='Valid Loss')\n",
    "    plt.title(f'Training and Validation Losses ({attn_variant} Attention)')\n",
    "    plt.xlabel('Epoch')\n",
    "    plt.ylabel('Loss')\n",
    "    plt.legend()\n",
    "    plt.savefig(f'{attn_variant}_loss.png')\n",
    "    plt.close()"
   ]
  },
  {
   "cell_type": "code",
   "execution_count": 104,
   "metadata": {},
   "outputs": [],
   "source": [
    "# save tokenizers\n",
    "file_name=f'src_tokenizer.pkl'\n",
    "with open(file_name, 'wb') as f:\n",
    "    pickle.dump(src_tokenizer, f)\n",
    "\n",
    "file_name=f'trg_tokenizer.pkl'\n",
    "with open(file_name, 'wb') as f:\n",
    "    pickle.dump(trg_tokenizer, f)"
   ]
  },
  {
   "cell_type": "code",
   "execution_count": 74,
   "metadata": {},
   "outputs": [],
   "source": [
    "import pandas as pd"
   ]
  },
  {
   "cell_type": "code",
   "execution_count": 75,
   "metadata": {},
   "outputs": [],
   "source": [
    "results_df = pd.DataFrame(results)"
   ]
  },
  {
   "cell_type": "code",
   "execution_count": 76,
   "metadata": {},
   "outputs": [
    {
     "data": {
      "text/html": [
       "<div>\n",
       "<style scoped>\n",
       "    .dataframe tbody tr th:only-of-type {\n",
       "        vertical-align: middle;\n",
       "    }\n",
       "\n",
       "    .dataframe tbody tr th {\n",
       "        vertical-align: top;\n",
       "    }\n",
       "\n",
       "    .dataframe thead th {\n",
       "        text-align: right;\n",
       "    }\n",
       "</style>\n",
       "<table border=\"1\" class=\"dataframe\">\n",
       "  <thead>\n",
       "    <tr style=\"text-align: right;\">\n",
       "      <th></th>\n",
       "      <th>Attention Type</th>\n",
       "      <th>Training Loss</th>\n",
       "      <th>Training PPL</th>\n",
       "      <th>Validation Loss</th>\n",
       "      <th>Validation PPL</th>\n",
       "      <th>Training Time</th>\n",
       "    </tr>\n",
       "  </thead>\n",
       "  <tbody>\n",
       "    <tr>\n",
       "      <th>0</th>\n",
       "      <td>general</td>\n",
       "      <td>6.073</td>\n",
       "      <td>433.946</td>\n",
       "      <td>6.819</td>\n",
       "      <td>914.948</td>\n",
       "      <td>884.990555</td>\n",
       "    </tr>\n",
       "    <tr>\n",
       "      <th>1</th>\n",
       "      <td>multiplicative</td>\n",
       "      <td>6.075</td>\n",
       "      <td>434.997</td>\n",
       "      <td>6.769</td>\n",
       "      <td>870.799</td>\n",
       "      <td>928.374043</td>\n",
       "    </tr>\n",
       "    <tr>\n",
       "      <th>2</th>\n",
       "      <td>additive</td>\n",
       "      <td>5.869</td>\n",
       "      <td>353.777</td>\n",
       "      <td>6.718</td>\n",
       "      <td>826.957</td>\n",
       "      <td>2992.822583</td>\n",
       "    </tr>\n",
       "  </tbody>\n",
       "</table>\n",
       "</div>"
      ],
      "text/plain": [
       "   Attention Type  Training Loss  Training PPL  Validation Loss  \\\n",
       "0         general          6.073       433.946            6.819   \n",
       "1  multiplicative          6.075       434.997            6.769   \n",
       "2        additive          5.869       353.777            6.718   \n",
       "\n",
       "   Validation PPL  Training Time  \n",
       "0         914.948     884.990555  \n",
       "1         870.799     928.374043  \n",
       "2         826.957    2992.822583  "
      ]
     },
     "execution_count": 76,
     "metadata": {},
     "output_type": "execute_result"
    }
   ],
   "source": [
    "results_df"
   ]
  },
  {
   "cell_type": "markdown",
   "metadata": {},
   "source": [
    "| **Attentions**              | **Training Loss** | **Training PPL** | **Validation Loss** | **Validation PPL** |\n",
    "|-----------------------------|-------------------|------------------|---------------------|--------------------|\n",
    "| General Attention           |      6.073             |  433.946                |   6.819                 |    914.948                 |\n",
    "| Multiplicative Attention    |      6.075             |  434.997                |   6.769                  |    870.799               |\n",
    "| Additive Attention          |      5.869             |  353.777                |   6.718                  |      826.957              |\n"
   ]
  },
  {
   "cell_type": "markdown",
   "metadata": {},
   "source": [
    "### Key Observations\n",
    "Additive Attention achieves:\n",
    "\n",
    "- Lowest Training Loss (5.869)\n",
    "- Lowest Training PPL (353.777)\n",
    "- Lowest Validation Loss (6.718)\n",
    "- Lowest Validation PPL (826.957)\n",
    "\n",
    "Multiplicative Attention is second in performance:\n",
    "\n",
    "Very close to General Attention in Training Loss and Training PPL. <br/>\n",
    "\n",
    "Slightly better than General Attention in Validation Loss (6.769 < 6.819) and Validation PPL (870.799 < 914.948).<br/>\n",
    "General Attention places third among the three in validation metrics, although its training metrics are nearly tied with Multiplicative."
   ]
  },
  {
   "cell_type": "markdown",
   "metadata": {},
   "source": [
    "<img src = \"./loss_plots/general_loss.png\" >\n",
    "<img src = \"./loss_plots/multiplicative_loss.png\" >\n",
    "<img src = \"./loss_plots/additive_loss.png\" >"
   ]
  },
  {
   "cell_type": "markdown",
   "metadata": {},
   "source": [
    "- Additive Attention tends to learn more expressive alignment patterns. This often translates into better capture of context, especially with languages that have complex grammar (like Hindi).\n",
    "- Multiplicative and General rely on dot-product or a linear transformation, which can be computationally cheaper but sometimes less flexible. While both can still yield good results, the alignment might be less nuanced compared to Additive Attention.\n",
    "- Because the Additive model has lower perplexity (PPL), it likely produces more coherent translations and handles vocabulary/structure alignment better. For English-Hindi translation—which can involve significant reordering of words and morphological changes—Additive’s capacity to learn more nuanced alignments is an advantage."
   ]
  },
  {
   "cell_type": "markdown",
   "metadata": {},
   "source": [
    "### Computational Efficiency\n",
    "- Multiplicative (Dot-Product) and General Attention : They are typically faster than Additive because they rely on relatively simple matrix multiplications (dot products). Fewer parameters than Additive, especially if using plain dot-product.\n",
    "- Additive Attention :Involves a feed-forward network to combine query and key vectors. This adds more learnable parameters (a small MLP) and, in some cases, can be slower.However, modern hardware (especially GPUs) handles these operations well, so the difference might not be drastic unless the dataset is very large or the model is extremely big."
   ]
  },
  {
   "cell_type": "code",
   "execution_count": 31,
   "metadata": {},
   "outputs": [],
   "source": [
    "with open('../app/server/models/src_tokenizer.pkl', 'rb') as f:\n",
    "    loaded_src_tokenizer = pickle.load(f)"
   ]
  },
  {
   "cell_type": "code",
   "execution_count": 32,
   "metadata": {},
   "outputs": [],
   "source": [
    "with open('../app/server/models/src_tokenizer.pkl', 'rb') as f:\n",
    "    loaded_trg_tokenizer = pickle.load(f)"
   ]
  },
  {
   "cell_type": "code",
   "execution_count": 65,
   "metadata": {},
   "outputs": [],
   "source": [
    "sample = [\"How are you?\", \"आप कैसे हैं?\"]"
   ]
  },
  {
   "cell_type": "code",
   "execution_count": 66,
   "metadata": {},
   "outputs": [],
   "source": [
    "import matplotlib.pyplot as plt\n",
    "import matplotlib.ticker as ticker\n",
    "\n",
    "def display_attention(sentence, translation, attention):\n",
    "    fig = plt.figure(figsize=(10,10))\n",
    "    ax = fig.add_subplot(111)\n",
    "    \n",
    "    # Convert attention to list if it's a NumPy array\n",
    "    attention = attention.tolist()\n",
    "    \n",
    "    cax = ax.matshow(attention, cmap='bone')\n",
    "   \n",
    "    ax.tick_params(labelsize=10)\n",
    "    \n",
    "    # Split sentence and translation into lists of words/tokens\n",
    "    sentence_tokens = sentence.split()\n",
    "    translation_tokens = translation.split()\n",
    "    \n",
    "    # Add empty string for formatting and concatenate with tokens\n",
    "    y_ticks =  [''] + translation_tokens\n",
    "    x_ticks =  [''] + sentence_tokens\n",
    "     \n",
    "    ax.set_xticklabels(x_ticks, rotation=45)\n",
    "    ax.set_yticklabels(y_ticks)\n",
    "\n",
    "    ax.xaxis.set_major_locator(ticker.MultipleLocator(1))\n",
    "    ax.yaxis.set_major_locator(ticker.MultipleLocator(1))\n",
    "\n",
    "    plt.show()\n",
    "    plt.close()\n"
   ]
  },
  {
   "cell_type": "code",
   "execution_count": 76,
   "metadata": {},
   "outputs": [],
   "source": [
    "def show_attention(model):\n",
    "    with torch.no_grad():\n",
    "        # Tokenize\n",
    "        src_tokens = torch.tensor([src_tokenizer.encode(sample[0])]).to(device)\n",
    "        trg_tokens = torch.tensor([trg_tokenizer.encode(sample[1])]).to(device)\n",
    "        \n",
    "        # Get model output and attention\n",
    "        output, attention_weights = model(src_tokens, trg_tokens[:,:-1])\n",
    "        \n",
    "        # Get last layer attention\n",
    "        if isinstance(attention_weights, list):\n",
    "            last_layer_attention = attention_weights[-1]\n",
    "        else:\n",
    "            last_layer_attention = attention_weights\n",
    "            \n",
    "        # Get first head's attention from first batch\n",
    "        attention = last_layer_attention[0, 0].cpu().numpy()\n",
    "        \n",
    "        # Get tokens\n",
    "        src_tokens_list = src_tokenizer.encode(sample[0])\n",
    "        trg_tokens_list = trg_tokenizer.encode(sample[1])\n",
    "        \n",
    "        # Convert token IDs to text\n",
    "        src_tokens_text = [src_tokenizer.decode([token]) for token in src_tokens_list]\n",
    "        trg_tokens_text = [trg_tokenizer.decode([token]) for token in trg_tokens_list]\n",
    "        \n",
    "        # Remove special tokens\n",
    "        src_tokens_text = [t for t in src_tokens_text if t not in ['<pad>', '<sos>', '<eos>', '']]\n",
    "        trg_tokens_text = [t for t in trg_tokens_text if t not in ['<pad>', '<sos>', '<eos>', '']]\n",
    "        \n",
    "        # Display attention for general model\n",
    "        display_attention(sample[0], sample[1], attention)\n",
    "\n"
   ]
  },
  {
   "cell_type": "code",
   "execution_count": 77,
   "metadata": {},
   "outputs": [],
   "source": [
    "import warnings\n",
    "warnings.filterwarnings(\"ignore\")"
   ]
  },
  {
   "cell_type": "code",
   "execution_count": 78,
   "metadata": {},
   "outputs": [],
   "source": [
    "with open('../app/server/models/model-general.pkl', 'rb') as f:\n",
    "    loaded_model = pickle.load(f)"
   ]
  },
  {
   "cell_type": "code",
   "execution_count": 79,
   "metadata": {},
   "outputs": [
    {
     "data": {
      "image/png": "[encoded data removed]",
      "text/plain": [
       "<Figure size 1000x1000 with 1 Axes>"
      ]
     },
     "metadata": {},
     "output_type": "display_data"
    }
   ],
   "source": [
    "show_attention(loaded_model)"
   ]
  },
  {
   "cell_type": "code",
   "execution_count": 80,
   "metadata": {},
   "outputs": [],
   "source": [
    "with open('../app/server/models/model-multiplicative.pkl', 'rb') as f:\n",
    "    loaded_model = pickle.load(f)"
   ]
  },
  {
   "cell_type": "code",
   "execution_count": 81,
   "metadata": {},
   "outputs": [
    {
     "data": {
      "image/png": "[encoded data removed]",
      "text/plain": [
       "<Figure size 1000x1000 with 1 Axes>"
      ]
     },
     "metadata": {},
     "output_type": "display_data"
    }
   ],
   "source": [
    "show_attention(loaded_model)"
   ]
  },
  {
   "cell_type": "code",
   "execution_count": 82,
   "metadata": {},
   "outputs": [],
   "source": [
    "with open('../app/server/models/model-additive.pkl', 'rb') as f:\n",
    "    loaded_model = pickle.load(f)"
   ]
  },
  {
   "cell_type": "code",
   "execution_count": 83,
   "metadata": {},
   "outputs": [
    {
     "data": {
      "image/png": "[encoded data removed]",
      "text/plain": [
       "<Figure size 1000x1000 with 1 Axes>"
      ]
     },
     "metadata": {},
     "output_type": "display_data"
    }
   ],
   "source": [
    "show_attention(loaded_model)"
   ]
  }
 ],
 "metadata": {
  "kernelspec": {
   "display_name": "base",
   "language": "python",
   "name": "python3"
  },
  "language_info": {
   "codemirror_mode": {
    "name": "ipython",
    "version": 3
   },
   "file_extension": ".py",
   "mimetype": "text/x-python",
   "name": "python",
   "nbconvert_exporter": "python",
   "pygments_lexer": "ipython3",
   "version": "3.12.7"
  }
 },
 "nbformat": 4,
 "nbformat_minor": 2
}
